{
 "cells": [
  {
   "cell_type": "markdown",
   "id": "b26712ee",
   "metadata": {},
   "source": [
    "Встановимо модулі, які нам знадобляться для a/b test"
   ]
  },
  {
   "cell_type": "code",
   "execution_count": 162,
   "id": "89e8b1f0",
   "metadata": {},
   "outputs": [],
   "source": [
    "import numpy as np\n",
    "import pandas as pd\n",
    "import scipy\n",
    "import matplotlib.pyplot as plt\n",
    "import random\n",
    "import statsmodels.stats.api as sms\n",
    "import seaborn as sns\n",
    "import scipy.stats as stats\n",
    "import math\n",
    "from scipy.stats import norm"
   ]
  },
  {
   "cell_type": "code",
   "execution_count": 3,
   "id": "2b3ebc67",
   "metadata": {},
   "outputs": [],
   "source": [
    "df = pd.read_csv('ab_data.csv')"
   ]
  },
  {
   "cell_type": "code",
   "execution_count": 5,
   "id": "42cc6e3a",
   "metadata": {},
   "outputs": [
    {
     "data": {
      "text/html": [
       "<div>\n",
       "<style scoped>\n",
       "    .dataframe tbody tr th:only-of-type {\n",
       "        vertical-align: middle;\n",
       "    }\n",
       "\n",
       "    .dataframe tbody tr th {\n",
       "        vertical-align: top;\n",
       "    }\n",
       "\n",
       "    .dataframe thead th {\n",
       "        text-align: right;\n",
       "    }\n",
       "</style>\n",
       "<table border=\"1\" class=\"dataframe\">\n",
       "  <thead>\n",
       "    <tr style=\"text-align: right;\">\n",
       "      <th></th>\n",
       "      <th>user_id</th>\n",
       "      <th>timestamp</th>\n",
       "      <th>group</th>\n",
       "      <th>landing_page</th>\n",
       "      <th>converted</th>\n",
       "    </tr>\n",
       "  </thead>\n",
       "  <tbody>\n",
       "    <tr>\n",
       "      <th>0</th>\n",
       "      <td>851104</td>\n",
       "      <td>2017-01-21 22:11:48.556739</td>\n",
       "      <td>control</td>\n",
       "      <td>old_page</td>\n",
       "      <td>0</td>\n",
       "    </tr>\n",
       "    <tr>\n",
       "      <th>1</th>\n",
       "      <td>804228</td>\n",
       "      <td>2017-01-12 08:01:45.159739</td>\n",
       "      <td>control</td>\n",
       "      <td>old_page</td>\n",
       "      <td>0</td>\n",
       "    </tr>\n",
       "    <tr>\n",
       "      <th>2</th>\n",
       "      <td>661590</td>\n",
       "      <td>2017-01-11 16:55:06.154213</td>\n",
       "      <td>treatment</td>\n",
       "      <td>new_page</td>\n",
       "      <td>0</td>\n",
       "    </tr>\n",
       "    <tr>\n",
       "      <th>3</th>\n",
       "      <td>853541</td>\n",
       "      <td>2017-01-08 18:28:03.143765</td>\n",
       "      <td>treatment</td>\n",
       "      <td>new_page</td>\n",
       "      <td>0</td>\n",
       "    </tr>\n",
       "    <tr>\n",
       "      <th>4</th>\n",
       "      <td>864975</td>\n",
       "      <td>2017-01-21 01:52:26.210827</td>\n",
       "      <td>control</td>\n",
       "      <td>old_page</td>\n",
       "      <td>1</td>\n",
       "    </tr>\n",
       "  </tbody>\n",
       "</table>\n",
       "</div>"
      ],
      "text/plain": [
       "   user_id                   timestamp      group landing_page  converted\n",
       "0   851104  2017-01-21 22:11:48.556739    control     old_page          0\n",
       "1   804228  2017-01-12 08:01:45.159739    control     old_page          0\n",
       "2   661590  2017-01-11 16:55:06.154213  treatment     new_page          0\n",
       "3   853541  2017-01-08 18:28:03.143765  treatment     new_page          0\n",
       "4   864975  2017-01-21 01:52:26.210827    control     old_page          1"
      ]
     },
     "execution_count": 5,
     "metadata": {},
     "output_type": "execute_result"
    }
   ],
   "source": [
    "df.head()"
   ]
  },
  {
   "cell_type": "markdown",
   "id": "ebab6d93",
   "metadata": {},
   "source": [
    "Бачимо data frame, який містять результат A/B тесту (маємо групу А - control і B - treatment). Метою цього тесту було визначити, чи нова веб-сторінка призвела до значного збільшення конверсій порівняно зі старою веб-сторінкою.\n",
    "Звідси можемо висунути нульову і альтернативну гіпотезу:\n",
    "H0: Немає значної різниці між старою і новою веб-сторінками щодо конверсій.\n",
    "H1: Нова веб-сторінка призвела до значного збільшення конверсій порівняно зі старою веб-сторінкою."
   ]
  },
  {
   "cell_type": "markdown",
   "id": "d1c1d348",
   "metadata": {},
   "source": [
    "Тепер перевіримо дані"
   ]
  },
  {
   "cell_type": "code",
   "execution_count": 6,
   "id": "d12960dd",
   "metadata": {},
   "outputs": [
    {
     "data": {
      "text/plain": [
       "(294478, 5)"
      ]
     },
     "execution_count": 6,
     "metadata": {},
     "output_type": "execute_result"
    }
   ],
   "source": [
    "df.shape"
   ]
  },
  {
   "cell_type": "code",
   "execution_count": 7,
   "id": "b6c8338c",
   "metadata": {},
   "outputs": [
    {
     "data": {
      "text/plain": [
       "user_id      290584\n",
       "timestamp    294478\n",
       "dtype: int64"
      ]
     },
     "execution_count": 7,
     "metadata": {},
     "output_type": "execute_result"
    }
   ],
   "source": [
    "df[['user_id', 'timestamp']].nunique()"
   ]
  },
  {
   "cell_type": "code",
   "execution_count": 4,
   "id": "7eef22e6",
   "metadata": {},
   "outputs": [
    {
     "data": {
      "text/html": [
       "<div>\n",
       "<style scoped>\n",
       "    .dataframe tbody tr th:only-of-type {\n",
       "        vertical-align: middle;\n",
       "    }\n",
       "\n",
       "    .dataframe tbody tr th {\n",
       "        vertical-align: top;\n",
       "    }\n",
       "\n",
       "    .dataframe thead th {\n",
       "        text-align: right;\n",
       "    }\n",
       "</style>\n",
       "<table border=\"1\" class=\"dataframe\">\n",
       "  <thead>\n",
       "    <tr style=\"text-align: right;\">\n",
       "      <th></th>\n",
       "      <th></th>\n",
       "      <th>user_id</th>\n",
       "      <th>timestamp</th>\n",
       "    </tr>\n",
       "    <tr>\n",
       "      <th>group</th>\n",
       "      <th>landing_page</th>\n",
       "      <th></th>\n",
       "      <th></th>\n",
       "    </tr>\n",
       "  </thead>\n",
       "  <tbody>\n",
       "    <tr>\n",
       "      <th rowspan=\"2\" valign=\"top\">control</th>\n",
       "      <th>new_page</th>\n",
       "      <td>1928</td>\n",
       "      <td>1928</td>\n",
       "    </tr>\n",
       "    <tr>\n",
       "      <th>old_page</th>\n",
       "      <td>145274</td>\n",
       "      <td>145274</td>\n",
       "    </tr>\n",
       "    <tr>\n",
       "      <th rowspan=\"2\" valign=\"top\">treatment</th>\n",
       "      <th>new_page</th>\n",
       "      <td>145311</td>\n",
       "      <td>145311</td>\n",
       "    </tr>\n",
       "    <tr>\n",
       "      <th>old_page</th>\n",
       "      <td>1965</td>\n",
       "      <td>1965</td>\n",
       "    </tr>\n",
       "  </tbody>\n",
       "</table>\n",
       "</div>"
      ],
      "text/plain": [
       "                        user_id  timestamp\n",
       "group     landing_page                    \n",
       "control   new_page         1928       1928\n",
       "          old_page       145274     145274\n",
       "treatment new_page       145311     145311\n",
       "          old_page         1965       1965"
      ]
     },
     "execution_count": 4,
     "metadata": {},
     "output_type": "execute_result"
    }
   ],
   "source": [
    "df.groupby(['group','landing_page'])[['user_id', 'timestamp']].count()"
   ]
  },
  {
   "cell_type": "markdown",
   "id": "f649f0be",
   "metadata": {},
   "source": [
    "Бачимо, що control група бачила нову сторінку, так само treatment бачила стару сторінку. Можемо зробити висновки, щоб відбулась помилка класифікації, то такі краще видалити. "
   ]
  },
  {
   "cell_type": "code",
   "execution_count": 5,
   "id": "a8ada67e",
   "metadata": {},
   "outputs": [],
   "source": [
    "df.drop(df[(df['group'] == 'control') & (df['landing_page'] == 'new_page')].index, inplace=True)"
   ]
  },
  {
   "cell_type": "code",
   "execution_count": 6,
   "id": "c0e7d360",
   "metadata": {},
   "outputs": [],
   "source": [
    "df.drop(df[(df['group'] == 'treatment') & (df['landing_page'] == 'old_page')].index, inplace=True)"
   ]
  },
  {
   "cell_type": "code",
   "execution_count": 7,
   "id": "fa98c6d2",
   "metadata": {},
   "outputs": [
    {
     "data": {
      "text/html": [
       "<div>\n",
       "<style scoped>\n",
       "    .dataframe tbody tr th:only-of-type {\n",
       "        vertical-align: middle;\n",
       "    }\n",
       "\n",
       "    .dataframe tbody tr th {\n",
       "        vertical-align: top;\n",
       "    }\n",
       "\n",
       "    .dataframe thead th {\n",
       "        text-align: right;\n",
       "    }\n",
       "</style>\n",
       "<table border=\"1\" class=\"dataframe\">\n",
       "  <thead>\n",
       "    <tr style=\"text-align: right;\">\n",
       "      <th></th>\n",
       "      <th></th>\n",
       "      <th>user_id</th>\n",
       "      <th>timestamp</th>\n",
       "    </tr>\n",
       "    <tr>\n",
       "      <th>group</th>\n",
       "      <th>landing_page</th>\n",
       "      <th></th>\n",
       "      <th></th>\n",
       "    </tr>\n",
       "  </thead>\n",
       "  <tbody>\n",
       "    <tr>\n",
       "      <th>control</th>\n",
       "      <th>old_page</th>\n",
       "      <td>145274</td>\n",
       "      <td>145274</td>\n",
       "    </tr>\n",
       "    <tr>\n",
       "      <th>treatment</th>\n",
       "      <th>new_page</th>\n",
       "      <td>145311</td>\n",
       "      <td>145311</td>\n",
       "    </tr>\n",
       "  </tbody>\n",
       "</table>\n",
       "</div>"
      ],
      "text/plain": [
       "                        user_id  timestamp\n",
       "group     landing_page                    \n",
       "control   old_page       145274     145274\n",
       "treatment new_page       145311     145311"
      ]
     },
     "execution_count": 7,
     "metadata": {},
     "output_type": "execute_result"
    }
   ],
   "source": [
    "df.groupby(['group','landing_page'])[['user_id', 'timestamp']].count()"
   ]
  },
  {
   "cell_type": "code",
   "execution_count": 8,
   "id": "f62c075e",
   "metadata": {},
   "outputs": [
    {
     "data": {
      "text/plain": [
       "(290585, 5)"
      ]
     },
     "execution_count": 8,
     "metadata": {},
     "output_type": "execute_result"
    }
   ],
   "source": [
    "df.shape"
   ]
  },
  {
   "cell_type": "code",
   "execution_count": 9,
   "id": "08b682db",
   "metadata": {},
   "outputs": [
    {
     "data": {
      "text/plain": [
       "user_id      290584\n",
       "timestamp    290585\n",
       "dtype: int64"
      ]
     },
     "execution_count": 9,
     "metadata": {},
     "output_type": "execute_result"
    }
   ],
   "source": [
    "df[['user_id', 'timestamp']].nunique()"
   ]
  },
  {
   "cell_type": "markdown",
   "id": "40d8d94f",
   "metadata": {},
   "source": [
    "Вже краще, тепер перевіримо, чи є рядки дублікати і чи містять рядки із значенням Nan"
   ]
  },
  {
   "cell_type": "code",
   "execution_count": 10,
   "id": "6124d259",
   "metadata": {},
   "outputs": [
    {
     "data": {
      "text/plain": [
       "0"
      ]
     },
     "execution_count": 10,
     "metadata": {},
     "output_type": "execute_result"
    }
   ],
   "source": [
    "df.duplicated().sum()"
   ]
  },
  {
   "cell_type": "code",
   "execution_count": 11,
   "id": "622e13e6",
   "metadata": {},
   "outputs": [
    {
     "data": {
      "text/plain": [
       "1"
      ]
     },
     "execution_count": 11,
     "metadata": {},
     "output_type": "execute_result"
    }
   ],
   "source": [
    "df[['user_id']].duplicated().sum()"
   ]
  },
  {
   "cell_type": "markdown",
   "id": "d72dd14d",
   "metadata": {},
   "source": [
    "Цікаво\n",
    "Глянемо, що то рядки і чи потрібно видалити."
   ]
  },
  {
   "cell_type": "code",
   "execution_count": 12,
   "id": "81c42ddf",
   "metadata": {},
   "outputs": [
    {
     "data": {
      "text/html": [
       "<div>\n",
       "<style scoped>\n",
       "    .dataframe tbody tr th:only-of-type {\n",
       "        vertical-align: middle;\n",
       "    }\n",
       "\n",
       "    .dataframe tbody tr th {\n",
       "        vertical-align: top;\n",
       "    }\n",
       "\n",
       "    .dataframe thead th {\n",
       "        text-align: right;\n",
       "    }\n",
       "</style>\n",
       "<table border=\"1\" class=\"dataframe\">\n",
       "  <thead>\n",
       "    <tr style=\"text-align: right;\">\n",
       "      <th></th>\n",
       "      <th>user_id</th>\n",
       "      <th>timestamp</th>\n",
       "      <th>group</th>\n",
       "      <th>landing_page</th>\n",
       "      <th>converted</th>\n",
       "    </tr>\n",
       "  </thead>\n",
       "  <tbody>\n",
       "    <tr>\n",
       "      <th>1899</th>\n",
       "      <td>773192</td>\n",
       "      <td>2017-01-09 05:37:58.781806</td>\n",
       "      <td>treatment</td>\n",
       "      <td>new_page</td>\n",
       "      <td>0</td>\n",
       "    </tr>\n",
       "    <tr>\n",
       "      <th>2893</th>\n",
       "      <td>773192</td>\n",
       "      <td>2017-01-14 02:55:59.590927</td>\n",
       "      <td>treatment</td>\n",
       "      <td>new_page</td>\n",
       "      <td>0</td>\n",
       "    </tr>\n",
       "  </tbody>\n",
       "</table>\n",
       "</div>"
      ],
      "text/plain": [
       "      user_id                   timestamp      group landing_page  converted\n",
       "1899   773192  2017-01-09 05:37:58.781806  treatment     new_page          0\n",
       "2893   773192  2017-01-14 02:55:59.590927  treatment     new_page          0"
      ]
     },
     "execution_count": 12,
     "metadata": {},
     "output_type": "execute_result"
    }
   ],
   "source": [
    "df[df.duplicated(subset=['user_id'], keep=False)]"
   ]
  },
  {
   "cell_type": "markdown",
   "id": "e5d2a5f3",
   "metadata": {},
   "source": [
    "Так як в колонці converted обидва значення дорівнюють нулеві, то може мо видалити один із них."
   ]
  },
  {
   "cell_type": "code",
   "execution_count": 13,
   "id": "577a5ac0",
   "metadata": {},
   "outputs": [],
   "source": [
    "df.drop_duplicates(subset=['user_id'], keep='first', inplace=True)"
   ]
  },
  {
   "cell_type": "code",
   "execution_count": 14,
   "id": "75916216",
   "metadata": {},
   "outputs": [
    {
     "data": {
      "text/html": [
       "<div>\n",
       "<style scoped>\n",
       "    .dataframe tbody tr th:only-of-type {\n",
       "        vertical-align: middle;\n",
       "    }\n",
       "\n",
       "    .dataframe tbody tr th {\n",
       "        vertical-align: top;\n",
       "    }\n",
       "\n",
       "    .dataframe thead th {\n",
       "        text-align: right;\n",
       "    }\n",
       "</style>\n",
       "<table border=\"1\" class=\"dataframe\">\n",
       "  <thead>\n",
       "    <tr style=\"text-align: right;\">\n",
       "      <th></th>\n",
       "      <th>user_id</th>\n",
       "      <th>timestamp</th>\n",
       "      <th>group</th>\n",
       "      <th>landing_page</th>\n",
       "      <th>converted</th>\n",
       "    </tr>\n",
       "  </thead>\n",
       "  <tbody>\n",
       "    <tr>\n",
       "      <th>1899</th>\n",
       "      <td>773192</td>\n",
       "      <td>2017-01-09 05:37:58.781806</td>\n",
       "      <td>treatment</td>\n",
       "      <td>new_page</td>\n",
       "      <td>0</td>\n",
       "    </tr>\n",
       "  </tbody>\n",
       "</table>\n",
       "</div>"
      ],
      "text/plain": [
       "      user_id                   timestamp      group landing_page  converted\n",
       "1899   773192  2017-01-09 05:37:58.781806  treatment     new_page          0"
      ]
     },
     "execution_count": 14,
     "metadata": {},
     "output_type": "execute_result"
    }
   ],
   "source": [
    "df[(df['user_id'] == 773192)] "
   ]
  },
  {
   "cell_type": "code",
   "execution_count": 15,
   "id": "1c002851",
   "metadata": {},
   "outputs": [
    {
     "data": {
      "text/plain": [
       "user_id         False\n",
       "timestamp       False\n",
       "group           False\n",
       "landing_page    False\n",
       "converted       False\n",
       "dtype: bool"
      ]
     },
     "execution_count": 15,
     "metadata": {},
     "output_type": "execute_result"
    }
   ],
   "source": [
    "df.isna().any()"
   ]
  },
  {
   "cell_type": "code",
   "execution_count": 21,
   "id": "8968a80e",
   "metadata": {},
   "outputs": [
    {
     "data": {
      "text/plain": [
       "group      landing_page\n",
       "control    old_page        145274\n",
       "treatment  new_page        145274\n",
       "Name: user_id, dtype: int64"
      ]
     },
     "execution_count": 21,
     "metadata": {},
     "output_type": "execute_result"
    }
   ],
   "source": [
    "df.groupby(['group','landing_page'])['user_id'].nunique()"
   ]
  },
  {
   "cell_type": "markdown",
   "id": "5b511466",
   "metadata": {},
   "source": [
    "Тепер можемо переходити до аналіз даного, якщо можна сказати до найсмачнішого."
   ]
  },
  {
   "cell_type": "code",
   "execution_count": 44,
   "id": "5e54bf23",
   "metadata": {
    "scrolled": true
   },
   "outputs": [],
   "source": [
    "df['timestamp'] = pd.to_datetime(df['timestamp'], format='%Y-%m-%d %H:%M:%S.%f') "
   ]
  },
  {
   "cell_type": "code",
   "execution_count": 45,
   "id": "7cbb474f",
   "metadata": {},
   "outputs": [],
   "source": [
    "df['date'] = df['timestamp'].dt.date"
   ]
  },
  {
   "cell_type": "code",
   "execution_count": 50,
   "id": "2178cc71",
   "metadata": {},
   "outputs": [],
   "source": [
    "df_control = df[df['group'] == 'control'].groupby('date')['converted'].sum().reset_index()"
   ]
  },
  {
   "cell_type": "code",
   "execution_count": 52,
   "id": "7f3cad72",
   "metadata": {},
   "outputs": [],
   "source": [
    "df_treatment = df[df['group'] == 'treatment'].groupby('date')['converted'].sum().reset_index()"
   ]
  },
  {
   "cell_type": "code",
   "execution_count": 53,
   "id": "c4991126",
   "metadata": {},
   "outputs": [
    {
     "data": {
      "image/png": "[encoded data removed]",
      "text/plain": [
       "<Figure size 640x480 with 1 Axes>"
      ]
     },
     "metadata": {},
     "output_type": "display_data"
    }
   ],
   "source": [
    "plt.plot(df_control['date'], df_control['converted'], label='Control')\n",
    "plt.plot(df_treatment['date'], df_treatment['converted'], label='Treatment')\n",
    "plt.xlabel('Date')\n",
    "plt.ylabel('Converted')\n",
    "plt.legend()\n",
    "plt.show()"
   ]
  },
  {
   "cell_type": "markdown",
   "id": "1bb83f64",
   "metadata": {},
   "source": [
    "Поргупували за датаю та бачимо, як змінюється конверсія. По графіку можемо помітити, що суттєвою різниці немає між групами, але на початку користування нова сторінка трішки краще вплинула на ситуацію і згодом вона змінилась. Настпуним кроком обрахуємо кількість учасників кожної групи потрбіно з рівнем значущості 0.05 і статестичною потужностю 0.8. Стосовно розміру ефекту – наскільки велика різниця, яку ми очікуємо, буде між коефіцієнтами конверсії. Нехай різницею в 2%, ми можемо використовувати 13% і 15% для розрахунку очікуваного розміру ефекту."
   ]
  },
  {
   "cell_type": "code",
   "execution_count": 106,
   "id": "057f3917",
   "metadata": {},
   "outputs": [
    {
     "data": {
      "text/plain": [
       "4432"
      ]
     },
     "execution_count": 106,
     "metadata": {},
     "output_type": "execute_result"
    }
   ],
   "source": [
    "effect_size = sms.proportion_effectsize(0.12, 0.14)\n",
    "alpha = 0.05\n",
    "power = 0.8\n",
    "sample_size = sms.NormalIndPower().solve_power(effect_size, power=power, alpha=alpha, ratio=1)\n",
    "count_drop = round(sample_size)\n",
    "count_drop"
   ]
  },
  {
   "cell_type": "code",
   "execution_count": 110,
   "id": "72241f56",
   "metadata": {},
   "outputs": [],
   "source": [
    "treatment_indexes = df[df['group'] == 'treatment'].index.tolist()\n",
    "random_indexes = random.sample(treatment_indexes, len(treatment_indexes) - count_drop)\n",
    "df = df.drop(random_indexes)"
   ]
  },
  {
   "cell_type": "code",
   "execution_count": 111,
   "id": "08777519",
   "metadata": {},
   "outputs": [],
   "source": [
    "treatment_indexes = df[df['group'] == 'control'].index.tolist()\n",
    "random_indexes = random.sample(treatment_indexes, len(treatment_indexes)-count_drop)\n",
    "df = df.drop(random_indexes)"
   ]
  },
  {
   "cell_type": "code",
   "execution_count": 114,
   "id": "d6bf3ec4",
   "metadata": {},
   "outputs": [
    {
     "data": {
      "text/html": [
       "<div>\n",
       "<style scoped>\n",
       "    .dataframe tbody tr th:only-of-type {\n",
       "        vertical-align: middle;\n",
       "    }\n",
       "\n",
       "    .dataframe tbody tr th {\n",
       "        vertical-align: top;\n",
       "    }\n",
       "\n",
       "    .dataframe thead th {\n",
       "        text-align: right;\n",
       "    }\n",
       "</style>\n",
       "<table border=\"1\" class=\"dataframe\">\n",
       "  <thead>\n",
       "    <tr style=\"text-align: right;\">\n",
       "      <th></th>\n",
       "      <th></th>\n",
       "      <th>user_id</th>\n",
       "      <th>timestamp</th>\n",
       "    </tr>\n",
       "    <tr>\n",
       "      <th>group</th>\n",
       "      <th>landing_page</th>\n",
       "      <th></th>\n",
       "      <th></th>\n",
       "    </tr>\n",
       "  </thead>\n",
       "  <tbody>\n",
       "    <tr>\n",
       "      <th>control</th>\n",
       "      <th>old_page</th>\n",
       "      <td>4432</td>\n",
       "      <td>4432</td>\n",
       "    </tr>\n",
       "    <tr>\n",
       "      <th>treatment</th>\n",
       "      <th>new_page</th>\n",
       "      <td>4432</td>\n",
       "      <td>4432</td>\n",
       "    </tr>\n",
       "  </tbody>\n",
       "</table>\n",
       "</div>"
      ],
      "text/plain": [
       "                        user_id  timestamp\n",
       "group     landing_page                    \n",
       "control   old_page         4432       4432\n",
       "treatment new_page         4432       4432"
      ]
     },
     "execution_count": 114,
     "metadata": {},
     "output_type": "execute_result"
    }
   ],
   "source": [
    "df.groupby(['group','landing_page'])[['user_id', 'timestamp']].count()"
   ]
  },
  {
   "cell_type": "markdown",
   "id": "4a057409",
   "metadata": {},
   "source": [
    "Можна додати, що різна кількість учасників могла б вплинути на статистичну потужність тесту та на точність результатів. Тепер сміло переходимо до аналізу."
   ]
  },
  {
   "cell_type": "code",
   "execution_count": 139,
   "id": "b2273dc0",
   "metadata": {},
   "outputs": [
    {
     "data": {
      "image/png": "[encoded data removed]",
      "text/plain": [
       "<Figure size 640x480 with 2 Axes>"
      ]
     },
     "metadata": {},
     "output_type": "display_data"
    }
   ],
   "source": [
    "df.hist(column='converted', by='group', grid=False, bins=2, rwidth=0.9)\n",
    "plt.show()"
   ]
  },
  {
   "cell_type": "markdown",
   "id": "be352f0c",
   "metadata": {},
   "source": [
    "Для наглядності побудувати гістограму і бачимо, що різниці між групами мінімальна. Тому переходимо до більш глибшого аналізу застосовуючи довірчий інтервал біноміальної пропорції. Якщо інтервали не збігаються: це означає, що ми можемо з певним рівнем упевненості сказати, що один кращий за інший, таким чином надаючи достатньо доказів, щоб відхилити нульову гіпотезу."
   ]
  },
  {
   "cell_type": "code",
   "execution_count": 149,
   "id": "3ae11471",
   "metadata": {},
   "outputs": [
    {
     "data": {
      "text/plain": [
       "group\n",
       "control      538\n",
       "treatment    552\n",
       "Name: converted, dtype: int64"
      ]
     },
     "execution_count": 149,
     "metadata": {},
     "output_type": "execute_result"
    }
   ],
   "source": [
    "df.groupby('group')['converted'].sum()"
   ]
  },
  {
   "cell_type": "code",
   "execution_count": 154,
   "id": "c51626e4",
   "metadata": {},
   "outputs": [
    {
     "name": "stdout",
     "output_type": "stream",
     "text": [
      "Довірчий інтервал для групи control пропорції з 95% довірчим рівнем: (0.1117752, 0.1310046)\n"
     ]
    }
   ],
   "source": [
    "p_hat = 538 / 4432\n",
    "se = math.sqrt(p_hat * (1 - p_hat) / 4432)\n",
    "z_critical = stats.norm.ppf(1 - (1 - 0.95) / 2)\n",
    "margin_of_error = z_critical * se\n",
    "\n",
    "lower_bound = p_hat - margin_of_error\n",
    "upper_bound = p_hat + margin_of_error\n",
    "\n",
    "print(f\"Довірчий інтервал для групи control пропорції з {0.95*100:.0f}% довірчим рівнем: ({lower_bound:.7f}, {upper_bound:.7f})\")"
   ]
  },
  {
   "cell_type": "code",
   "execution_count": 155,
   "id": "cc687179",
   "metadata": {},
   "outputs": [
    {
     "name": "stdout",
     "output_type": "stream",
     "text": [
      "Довірчий інтервал для групи treatment пропорції з 95% довірчим рівнем: (0.1148272, 0.1342702)\n"
     ]
    }
   ],
   "source": [
    "p_hat = 552 / 4432\n",
    "se = math.sqrt(p_hat * (1 - p_hat) / 4432)\n",
    "z_critical = stats.norm.ppf(1 - (1 - 0.95) / 2)\n",
    "margin_of_error = z_critical * se\n",
    "\n",
    "lower_bound = p_hat - margin_of_error\n",
    "upper_bound = p_hat + margin_of_error\n",
    "\n",
    "print(f\"Довірчий інтервал для групи treatment пропорції з {0.95*100:.0f}% довірчим рівнем: ({lower_bound:.7f}, {upper_bound:.7f})\")"
   ]
  },
  {
   "cell_type": "markdown",
   "id": "3a026a8e",
   "metadata": {},
   "source": [
    "Зауважимо, що довірчий інтервал для кожної групи міститься на відрізку [0,1], що означає, що обидві групи мають статистично значущу кількість успішних спостережень. Видно, що довірчий інтервал для treatment групи (0.1148272, 0.1342702) є трохи вищим за довірчий інтервал для control групи (0.1117752, 0.1310046). Це означає, що можливо, що тестова група має кращі результати, ніж контрольна група, але не можна з упевненістю стверджувати це, оскільки довірчі інтервали перетинаються. Отже, для зроблення висновку щодо ефективності тесту потрібно провести подальший аналіз."
   ]
  },
  {
   "cell_type": "markdown",
   "id": "c946f829",
   "metadata": {},
   "source": [
    "Використаємо наступний метод Z-тест, який дозволяє оцінити статистичну значимість різниці між конверсіями у двох групах (контрольній і тестовій). Основна ідея полягає в порівнянні середніх значень конверсій в контрольній та тестовій групах та обчисленні z-статистики, яка відображає розмір різниці між середніми значеннями у стандартних одиницях. "
   ]
  },
  {
   "cell_type": "code",
   "execution_count": 163,
   "id": "99a62c70",
   "metadata": {},
   "outputs": [
    {
     "name": "stdout",
     "output_type": "stream",
     "text": [
      "z-статистика:  0.4528062524271283\n",
      "p-значення:  0.650688260990564\n"
     ]
    }
   ],
   "source": [
    "control_conversion = 538 / 4432\n",
    "treatment_conversion = 552 / 4432\n",
    "\n",
    "se = ((control_conversion * (1 - control_conversion)) / 4432 + (treatment_conversion * (1 - treatment_conversion)) /4432) ** 0.5\n",
    "z_stat = (treatment_conversion - control_conversion) / se\n",
    "p_value = 2 * (1 - norm.cdf(abs(z_stat)))\n",
    "\n",
    "print(\"z-статистика: \", z_stat)\n",
    "print(\"p-значення: \", p_value)"
   ]
  },
  {
   "cell_type": "markdown",
   "id": "d2699c30",
   "metadata": {},
   "source": [
    "Оскільки наше значення p перевищує порогове значення α=0,05, ми не можемо відхилити нульову гіпотезу.\n",
    "Це означає, що нова сторінка не краща за стару(немає суттєвих відмінностей). Тобто можемо зробити висновки, що не має сенсу у використанні нової сторінки."
   ]
  },
  {
   "cell_type": "code",
   "execution_count": null,
   "id": "33a1d60e",
   "metadata": {},
   "outputs": [],
   "source": []
  }
 ],
 "metadata": {
  "kernelspec": {
   "display_name": "Python 3 (ipykernel)",
   "language": "python",
   "name": "python3"
  },
  "language_info": {
   "codemirror_mode": {
    "name": "ipython",
    "version": 3
   },
   "file_extension": ".py",
   "mimetype": "text/x-python",
   "name": "python",
   "nbconvert_exporter": "python",
   "pygments_lexer": "ipython3",
   "version": "3.9.10"
  }
 },
 "nbformat": 4,
 "nbformat_minor": 5
}
